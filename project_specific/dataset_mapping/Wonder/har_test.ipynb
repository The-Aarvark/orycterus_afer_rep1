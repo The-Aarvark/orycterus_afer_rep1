{
 "cells": [
  {
   "cell_type": "code",
   "execution_count": 14,
   "metadata": {},
   "outputs": [],
   "source": [
    "har_file_path = '/Users/robertstillwell/GovernmentInformant/my_workspace/project_specific/dataset_mapping/Wonder/wonder.cdc.gov.har'\n",
    "import json\n",
    "import pandas as pd\n",
    "from datetime import datetime\n",
    "\n",
    "# Load the HAR file\n",
    "with open(har_file_path, 'r') as file:\n",
    "    har_data = json.load(file)\n",
    "    \n"
   ]
  },
  {
   "cell_type": "code",
   "execution_count": 15,
   "metadata": {},
   "outputs": [
    {
     "data": {
      "text/plain": [
       "[{'request_url': 'https://cdc.112.2o7.net/b/ss/devcdc/1/JS-2.0.0/s8973238350742?AQB=1&ndh=1&pf=1&t=24%2F5%2F2024%207%3A44%3A44%201%20420&fid=555CCC1701036903-2D9C3BAAC547395F&ce=UTF-8&pageName=Provisional%20Mortality%20Statistics%2C%202018%20through%20Last%20Week%20Request%20Form&g=https%3A%2F%2Fwonder.cdc.gov%2Fcontroller%2Fdatarequest%2FD176&r=https%3A%2F%2Fwonder.cdc.gov%2Fmcd-icd10-provisional.html&cc=USD&server=wonder.cdc.gov&events=event43%2Cevent47%3D0.00%2Cevent48%3D0.00%2Cevent49%3D0.00%2Cevent50%3D0.00%2Cevent51%3D0.08%2Cevent52%3D0.52%2Cevent53%3D0.54%2Cevent54%3D0.00%2Cevent55%3D0.63%2Cevent56%2Cevent57%3D55%2Cevent58%3D56%2Cevent59&l1=wonder.cdc.gov%3Acontroller%3Adatarequest%3AD176&c2=https%3A%2F%2Fwonder.cdc.gov%2Fcontroller%2Fdatarequest%2Fd176&c5=eng&c8=Web%20Page&c26=provisional%20mortality%20statistics%2C%202018%20through%20last%20week%20request%20form&c30=provisional%20mortality%20statistics%2C%202018%20through%20last%20week%20request%20form&c31=https%3A%2F%2Fwonder.cdc.gov%2Fcontroller%2Fdatarequest%2Fd176&c35=10%3A44%20AM&c36=Monday&c46=https%3A%2F%2Fwonder.cdc.gov%2Fcontroller%2Fdatarequest%2Fd176&c49=md&c53=AppMeasurement%201.7%20-%20Feb%2010%2C%202017&v53=10%3A44%20AM%7CMonday%7CEST&c54=D%3Dg&v54=D%3Dg&c55=D%3Dv55&v55=https%3A%2F%2Fwonder.cdc.gov%2Fmcd-icd10-provisional.html&c56=8&v56=%2B1&c57=16&v57=D%3Dc57&c58=Less%20than%207%20days&v58=D%3Dc58&c59=81&c60=Mozilla%2F5.0%20%28Macintosh%3B%20Intel%20Mac%20OS%20X%2010_15_7%29%20AppleWebKit%2F537.36%20%28KHTML%2C%20like%20Gecko%29%20Chrome%2F126.0.0.0%20Safari%2F537.36&c61=D%3Dv61&v61=Provisional%20Mortality%20Statistics%2C%202018%20through%20Last%20Week%20Request&c62=06%2F24%2F2024&v62=06%2F24%2F2024&c73=https%3A%2F%2Fwonder.cdc.gov%2Fcontroller%2Fdatarequest%2Fd176&v73=https%3A%2F%2Fwonder.cdc.gov%2Fcontroller%2Fdatarequest%2Fd176&c.&a.&activitymap.&page=Provisional%20Mortality%20Statistics%2C%202018%20through%20Last%20Week%20Request&link=Click%20the%20I%20Agree%20button%20to%20gain%20access%20to%20the%20dataset%20and%20signify%20that%20you%20will%20abide%20by%20the%20terms%20of%20the%20data%20use%20agreement.&region=wonderform&pageIDType=1&.activitymap&.a&.c&pid=Provisional%20Mortality%20Statistics%2C%202018%20through%20Last%20Week%20Request&pidt=1&oid=functiononclick%28event%29%7BsendTab%28%29%7D&oidt=2&ot=SUBMIT&s=1728x1117&c=30&j=1.6&v=N&k=Y&bw=979&bh=798&AQE=1',\n",
       "  'set_cookie_header': 's_vi_bcpebe=[CS]v4|32DE0187F13BEA36-400015EAE255A8FE|6679865C[CE]; Path=/; Domain=2o7.net; Max-Age=63072000; Expires=Wed, 24 Jun 2026 14:44:44 GMT; SameSite=None; Secure',\n",
       "  'response_headers': [{'name': 'access-control-allow-origin', 'value': '*'},\n",
       "   {'name': 'cache-control',\n",
       "    'value': 'no-cache, no-store, max-age=0, no-transform, private'},\n",
       "   {'name': 'content-length', 'value': '43'},\n",
       "   {'name': 'content-type', 'value': 'image/gif;charset=utf-8'},\n",
       "   {'name': 'date', 'value': 'Mon, 24 Jun 2024 14:44:44 GMT'},\n",
       "   {'name': 'etag', 'value': '3692040397710557184-4618247060397906349'},\n",
       "   {'name': 'expires', 'value': 'Sun, 23 Jun 2024 14:44:44 GMT'},\n",
       "   {'name': 'last-modified', 'value': 'Tue, 25 Jun 2024 14:44:44 GMT'},\n",
       "   {'name': 'p3p', 'value': 'CP=\"This is not a P3P policy\"'},\n",
       "   {'name': 'pragma', 'value': 'no-cache'},\n",
       "   {'name': 'server', 'value': 'jag'},\n",
       "   {'name': 'set-cookie',\n",
       "    'value': 's_vi_bcpebe=[CS]v4|32DE0187F13BEA36-400015EAE255A8FE|6679865C[CE]; Path=/; Domain=2o7.net; Max-Age=63072000; Expires=Wed, 24 Jun 2026 14:44:44 GMT; SameSite=None; Secure'},\n",
       "   {'name': 'vary', 'value': '*'},\n",
       "   {'name': 'x-content-type-options', 'value': 'nosniff'},\n",
       "   {'name': 'x-xss-protection', 'value': '1; mode=block'}]},\n",
       " {'request_url': 'https://cdc.112.2o7.net/b/ss/devcdc/1/JS-2.0.0/s89884148450681?AQB=1&ndh=1&pf=1&t=24%2F5%2F2024%207%3A45%3A57%201%20420&fid=555CCC1701036903-2D9C3BAAC547395F&ce=UTF-8&pageName=Provisional%20Mortality%20Statistics%2C%202018%20through%20Last%20Week%20Results%20Form&g=https%3A%2F%2Fwonder.cdc.gov%2Fcontroller%2Fdatarequest%2FD176%3Bjsessionid%3DCAD6AA843D44988DCE41089E2D53&r=https%3A%2F%2Fwonder.cdc.gov%2Fcontroller%2Fdatarequest%2FD176&cc=USD&server=wonder.cdc.gov&events=event43%2Cevent47%3D0.00%2Cevent48%3D0.00%2Cevent49%3D0.00%2Cevent50%3D0.00%2Cevent51%3D0.15%2Cevent52%3D0.47%2Cevent53%3D0.72%2Cevent54%3D0.00%2Cevent55%3D0.89%2Cevent56&l1=wonder.cdc.gov%3Acontroller%3Adatarequest%3AD176%3Bjsessionid%3DCAD6AA843D44988DCE41089E2D53&c2=https%3A%2F%2Fwonder.cdc.gov%2Fcontroller%2Fdatarequest%2Fd176%3Bjsessionid%3Dcad6aa843d44988dce41089e2d53&c5=eng&c8=Web%20Page&c26=provisional%20mortality%20statistics%2C%202018%20through%20last%20week%20results%20form&c30=provisional%20mortality%20statistics%2C%202018%20through%20last%20week%20results%20form&c31=https%3A%2F%2Fwonder.cdc.gov%2Fcontroller%2Fdatarequest%2Fd176%3Bjsessionid%3Dcad6aa843d44988dce41089e2d53&c35=10%3A45%20AM&c36=Monday&c46=https%3A%2F%2Fwonder.cdc.gov%2Fcontroller%2Fdatarequest%2Fd176%3Bjsessionid%3Dcad6aa843d44988dce41089e2d53&c49=md&c53=AppMeasurement%201.7%20-%20Feb%2010%2C%202017&v53=10%3A45%20AM%7CMonday%7CEST&c54=D%3Dg&v54=D%3Dg&c55=D%3Dv55&v55=https%3A%2F%2Fwonder.cdc.gov%2Fcontroller%2Fdatarequest%2FD176&c56=122&v56=%2B1&c57=16&v57=D%3Dc57&c58=Less%20than%207%20days&v58=D%3Dc58&c59=16&c60=Mozilla%2F5.0%20%28Macintosh%3B%20Intel%20Mac%20OS%20X%2010_15_7%29%20AppleWebKit%2F537.36%20%28KHTML%2C%20like%20Gecko%29%20Chrome%2F126.0.0.0%20Safari%2F537.36&c61=D%3Dv61&v61=Provisional%20Mortality%20Statistics%2C%202018%20through%20Last%20Week%20Request%20Form&c62=06%2F24%2F2024&v62=06%2F24%2F2024&c73=https%3A%2F%2Fwonder.cdc.gov%2Fcontroller%2Fdatarequest%2Fd176%3Bjsessionid%3Dcad6aa843d44988dce41089e2d53&v73=https%3A%2F%2Fwonder.cdc.gov%2Fcontroller%2Fdatarequest%2Fd176%3Bjsessionid%3Dcad6aa843d44988dce41089e2d53&pid=Provisional%20Mortality%20Statistics%2C%202018%20through%20Last%20Week%20Request%20Form&pidt=1&oid=functiononclick%28event%29%7BsubmitSet%28this%29%7D&oidt=2&ot=SUBMIT&s=1728x1117&c=30&j=1.6&v=N&k=Y&bw=979&bh=798&AQE=1',\n",
       "  'set_cookie_header': 's_vi_bcpebe=[CS]v4|32DE0187F13BEA36-400015EAE255A8FE|667986A5[CE]; Path=/; Domain=2o7.net; Max-Age=63072000; Expires=Wed, 24 Jun 2026 14:45:45 GMT; SameSite=None; Secure',\n",
       "  'response_headers': [{'name': 'access-control-allow-origin', 'value': '*'},\n",
       "   {'name': 'cache-control',\n",
       "    'value': 'no-cache, no-store, max-age=0, no-transform, private'},\n",
       "   {'name': 'content-length', 'value': '43'},\n",
       "   {'name': 'content-type', 'value': 'image/gif;charset=utf-8'},\n",
       "   {'name': 'date', 'value': 'Mon, 24 Jun 2024 14:45:57 GMT'},\n",
       "   {'name': 'etag', 'value': '3692040555403444224-4618489858664986649'},\n",
       "   {'name': 'expires', 'value': 'Sun, 23 Jun 2024 14:45:57 GMT'},\n",
       "   {'name': 'last-modified', 'value': 'Tue, 25 Jun 2024 14:45:57 GMT'},\n",
       "   {'name': 'p3p', 'value': 'CP=\"This is not a P3P policy\"'},\n",
       "   {'name': 'pragma', 'value': 'no-cache'},\n",
       "   {'name': 'server', 'value': 'jag'},\n",
       "   {'name': 'set-cookie',\n",
       "    'value': 's_vi_bcpebe=[CS]v4|32DE0187F13BEA36-400015EAE255A8FE|667986A5[CE]; Path=/; Domain=2o7.net; Max-Age=63072000; Expires=Wed, 24 Jun 2026 14:45:45 GMT; SameSite=None; Secure'},\n",
       "   {'name': 'vary', 'value': '*'},\n",
       "   {'name': 'x-content-type-options', 'value': 'nosniff'},\n",
       "   {'name': 'x-xss-protection', 'value': '1; mode=block'}]}]"
      ]
     },
     "execution_count": 15,
     "metadata": {},
     "output_type": "execute_result"
    }
   ],
   "source": [
    "\n",
    "# Function to extract all set-cookie headers\n",
    "def extract_set_cookie_headers(har_data):\n",
    "    set_cookie_entries = []\n",
    "    for entry in har_data['log']['entries']:\n",
    "        for header in entry['response'].get('headers', []):\n",
    "            if 'set-cookie' in header['name'].lower():\n",
    "                set_cookie_entries.append({\n",
    "                    \"request_url\": entry['request']['url'],\n",
    "                    \"set_cookie_header\": header['value'],\n",
    "                    \"response_headers\": entry['response']['headers']\n",
    "                })\n",
    "    return set_cookie_entries\n",
    "set_cookie_headers = extract_set_cookie_headers(har_data)\n"
   ]
  },
  {
   "cell_type": "code",
   "execution_count": 16,
   "metadata": {},
   "outputs": [
    {
     "data": {
      "text/plain": [
       "2"
      ]
     },
     "execution_count": 16,
     "metadata": {},
     "output_type": "execute_result"
    }
   ],
   "source": [
    "len(set_cookie_headers)"
   ]
  }
 ],
 "metadata": {
  "kernelspec": {
   "display_name": ".venv",
   "language": "python",
   "name": "python3"
  },
  "language_info": {
   "codemirror_mode": {
    "name": "ipython",
    "version": 3
   },
   "file_extension": ".py",
   "mimetype": "text/x-python",
   "name": "python",
   "nbconvert_exporter": "python",
   "pygments_lexer": "ipython3",
   "version": "3.12.0"
  }
 },
 "nbformat": 4,
 "nbformat_minor": 2
}
