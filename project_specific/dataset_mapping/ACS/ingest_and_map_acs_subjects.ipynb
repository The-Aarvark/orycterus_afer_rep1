{
 "cells": [
  {
   "cell_type": "code",
   "execution_count": 2,
   "metadata": {},
   "outputs": [],
   "source": [
    "import requests, json"
   ]
  },
  {
   "cell_type": "code",
   "execution_count": 3,
   "metadata": {},
   "outputs": [
    {
     "data": {
      "text/plain": [
       "{'name': 'S2302',\n",
       " 'description': 'EMPLOYMENT CHARACTERISTICS OF FAMILIES',\n",
       " 'variables': 'http://api.census.gov/data/2021/acs/acs1/subject/groups/S2302.json'}"
      ]
     },
     "execution_count": 3,
     "metadata": {},
     "output_type": "execute_result"
    }
   ],
   "source": [
    "metadata_url = 'https://api.census.gov/data/2021/acs/acs1/subject/groups.json'\n",
    "import requests, json\n",
    "data = requests.get(metadata_url).json()\n",
    "groups = data['groups']\n",
    "for group in groups: \n",
    "    if group != 'S0502':\n",
    "        continue\n",
    "group\n"
   ]
  },
  {
   "cell_type": "code",
   "execution_count": 4,
   "metadata": {},
   "outputs": [
    {
     "data": {
      "text/plain": [
       "['string', 'int', 'float']"
      ]
     },
     "execution_count": 4,
     "metadata": {},
     "output_type": "execute_result"
    }
   ],
   "source": [
    "v_url = group['variables']\n",
    "variables = requests.get(v_url).json()['variables']\n",
    "predicates = []\n",
    "for v, val in variables.items():\n",
    "    if val['predicateType'] not in predicates:\n",
    "        predicates.append(val['predicateType'])\n",
    "predicates"
   ]
  },
  {
   "cell_type": "code",
   "execution_count": 6,
   "metadata": {},
   "outputs": [
    {
     "name": "stdout",
     "output_type": "stream",
     "text": [
      "['S2302_C01_019MA', 'S2302_C01_019EA', 'S2302_C01_018MA', 'S2302_C01_018EA', 'S2302_C01_017MA', 'S2302_C01_017EA', 'S2302_C02_002EA', 'S2302_C02_002MA', 'S2302_C01_016EA', 'S2302_C02_003EA', 'S2302_C02_003MA', 'S2302_C01_016MA', 'S2302_C01_015EA', 'S2302_C02_004EA', 'S2302_C01_015MA', 'S2302_C02_004MA', 'S2302_C01_014EA', 'S2302_C02_006EA', 'S2302_C02_005EA', 'S2302_C01_014MA', 'S2302_C02_005MA', 'S2302_C01_013EA', 'S2302_C01_013MA', 'S2302_C01_012MA', 'S2302_C01_012EA', 'S2302_C01_011MA', 'S2302_C01_011EA', 'S2302_C02_001MA', 'S2302_C01_010MA', 'S2302_C01_010EA', 'S2302_C02_001EA', 'S2302_C04_008EA', 'S2302_C04_008MA', 'S2302_C03_030MA', 'S2302_C03_030EA', 'S2302_C04_007EA', 'S2302_C04_007MA', 'S2302_C04_006EA', 'S2302_C04_006MA', 'S2302_C04_005EA', 'S2302_C04_005MA', 'S2302_C04_003MA', 'S2302_C04_004EA', 'NAME', 'S2302_C04_004MA', 'S2302_C04_002MA', 'S2302_C04_003EA', 'S2302_C04_001MA', 'S2302_C04_002EA', 'S2302_C04_001EA']\n",
      "50\n",
      "\n",
      "['S2302_C03_009MA', 'S2302_C04_030EA', 'S2302_C03_009EA', 'S2302_C04_030MA', 'S2302_C03_008MA', 'S2302_C03_008EA', 'S2302_C01_009MA', 'S2302_C01_008MA', 'S2302_C02_007EA', 'S2302_C01_008EA', 'S2302_C01_009EA', 'S2302_C02_006MA', 'S2302_C01_007MA', 'S2302_C01_007EA', 'S2302_C02_008EA', 'S2302_C02_007MA', 'S2302_C01_006MA', 'S2302_C01_006EA', 'S2302_C02_009EA', 'S2302_C02_008MA', 'S2302_C01_005MA', 'S2302_C01_005EA', 'S2302_C02_009MA', 'S2302_C01_004EA', 'S2302_C02_015EA', 'S2302_C02_015MA', 'S2302_C01_004MA', 'S2302_C01_003EA', 'S2302_C02_016EA', 'S2302_C01_003MA', 'S2302_C02_016MA', 'S2302_C03_003EA', 'S2302_C01_002EA', 'S2302_C02_018EA', 'S2302_C03_002MA', 'S2302_C02_017EA', 'S2302_C01_002MA', 'S2302_C03_002EA', 'S2302_C02_017MA', 'S2302_C01_001EA', 'S2302_C02_019EA', 'S2302_C02_018MA', 'S2302_C03_001MA', 'S2302_C01_001MA', 'S2302_C03_001EA', 'S2302_C02_011MA', 'S2302_C03_005EA', 'S2302_C03_004MA', 'S2302_C02_011EA', 'S2302_C03_004EA']\n",
      "50\n",
      "\n",
      "['S2302_C02_012MA', 'S2302_C03_003MA', 'S2302_C02_012EA', 'S2302_C03_007MA', 'S2302_C02_013MA', 'S2302_C03_007EA', 'S2302_C03_006MA', 'S2302_C02_013EA', 'S2302_C03_006EA', 'S2302_C02_014EA', 'S2302_C02_014MA', 'S2302_C03_005MA', 'S2302_C02_010MA', 'S2302_C02_010EA', 'S2302_C02_019MA', 'S2302_C04_025MA', 'S2302_C02_029EA', 'S2302_C02_028EA', 'S2302_C03_013MA', 'S2302_C02_028MA', 'S2302_C04_026EA', 'S2302_C03_013EA', 'S2302_C04_024MA', 'S2302_C03_012MA', 'S2302_C02_029MA', 'S2302_C03_012EA', 'S2302_C04_025EA', 'S2302_C03_016EA', 'S2302_C04_023MA', 'S2302_C04_024EA', 'S2302_C03_015MA', 'S2302_C03_015EA', 'S2302_C04_022EA', 'S2302_C04_022MA', 'S2302_C03_014MA', 'S2302_C04_023EA', 'S2302_C03_014EA', 'S2302_C02_024MA', 'S2302_C03_018EA', 'S2302_C04_021EA', 'S2302_C04_021MA', 'S2302_C02_024EA', 'S2302_C03_017MA', 'S2302_C04_020EA', 'S2302_C03_017EA', 'S2302_C04_020MA', 'S2302_C02_025EA', 'S2302_C03_016MA', 'S2302_C02_025MA', 'S2302_C02_026EA']\n",
      "50\n",
      "\n",
      "['S2302_C02_026MA', 'S2302_C03_019MA', 'S2302_C03_019EA', 'S2302_C02_027EA', 'S2302_C03_018MA', 'S2302_C02_027MA', 'S2302_C02_020EA', 'S2302_C02_020MA', 'S2302_C02_021MA', 'S2302_C02_021EA', 'S2302_C02_022MA', 'S2302_C02_022EA', 'S2302_C02_023MA', 'S2302_C02_023EA', 'S2302_C01_030MA', 'S2302_C01_030EA', 'S2302_C04_029EA', 'S2302_C04_029MA', 'S2302_C04_028EA', 'S2302_C03_011MA', 'S2302_C04_028MA', 'S2302_C03_011EA', 'S2302_C04_026MA', 'S2302_C03_010MA', 'S2302_C04_027EA', 'S2302_C03_010EA', 'S2302_C04_027MA', 'S2302_C04_009EA', 'S2302_C04_009MA', 'GEO_ID', 'S2302_C03_027EA', 'S2302_C04_012MA', 'S2302_C04_013EA', 'S2302_C03_026MA', 'S2302_C03_026EA', 'S2302_C01_029MA', 'S2302_C04_011EA', 'S2302_C01_029EA', 'S2302_C04_011MA', 'S2302_C03_025MA', 'S2302_C04_012EA', 'S2302_C03_025EA', 'S2302_C01_028MA', 'S2302_C03_029EA', 'S2302_C04_010EA', 'S2302_C01_028EA', 'S2302_C04_010MA', 'S2302_C03_028MA', 'S2302_C03_028EA', 'S2302_C01_027EA']\n",
      "50\n",
      "\n",
      "['S2302_C03_027MA', 'S2302_C01_027MA', 'S2302_C01_026EA', 'S2302_C01_026MA', 'S2302_C01_025EA', 'S2302_C01_025MA', 'S2302_C03_029MA', 'S2302_C01_024EA', 'S2302_C01_024MA', 'S2302_C01_023MA', 'S2302_C01_023EA', 'S2302_C01_022MA', 'S2302_C01_022EA', 'S2302_C01_021MA', 'S2302_C01_021EA', 'S2302_C03_020MA', 'S2302_C01_020MA', 'S2302_C04_019EA', 'S2302_C03_020EA', 'S2302_C01_020EA', 'S2302_C04_019MA', 'S2302_C04_018EA', 'S2302_C04_018MA', 'S2302_C04_017EA', 'S2302_C03_022MA', 'S2302_C04_017MA', 'S2302_C03_022EA', 'S2302_C02_030EA', 'S2302_C04_015MA', 'S2302_C03_021MA', 'S2302_C02_030MA', 'S2302_C04_016EA', 'S2302_C03_021EA', 'S2302_C04_016MA', 'S2302_C04_014MA', 'S2302_C03_024MA', 'S2302_C04_015EA', 'S2302_C03_024EA', 'S2302_C04_013MA', 'S2302_C03_023MA', 'S2302_C03_023EA', 'S2302_C04_014EA']\n",
      "42\n",
      "\n"
     ]
    }
   ],
   "source": [
    "breaker19 = 0\n",
    "get_lists = []\n",
    "for p in predicates:\n",
    "    varlist = [x for x in variables if variables[x]['predicateType'] == p]\n",
    "    ## requests to the API can have an entire group but that will mix predicate types. Instead opt for separating by predicate type and ingesting the maximum 50 variables each time. \n",
    "    while len(varlist) != 0:\n",
    "        # breaker19 +=1\n",
    "        # if breaker19 > 5: \n",
    "        #     break\n",
    "        toval = min(len(varlist),50)\n",
    "        varlist = varlist[:toval]\n",
    "        print(this_get)\n",
    "        print(len(this_get))\n",
    "        print()\n",
    "    break"
   ]
  },
  {
   "cell_type": "code",
   "execution_count": null,
   "metadata": {},
   "outputs": [],
   "source": []
  }
 ],
 "metadata": {
  "kernelspec": {
   "display_name": ".venv",
   "language": "python",
   "name": "python3"
  },
  "language_info": {
   "codemirror_mode": {
    "name": "ipython",
    "version": 3
   },
   "file_extension": ".py",
   "mimetype": "text/x-python",
   "name": "python",
   "nbconvert_exporter": "python",
   "pygments_lexer": "ipython3",
   "version": "3.12.0"
  }
 },
 "nbformat": 4,
 "nbformat_minor": 2
}
