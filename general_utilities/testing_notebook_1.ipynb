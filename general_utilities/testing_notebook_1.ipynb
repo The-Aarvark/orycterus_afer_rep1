{
 "cells": [
  {
   "cell_type": "code",
   "execution_count": 34,
   "metadata": {},
   "outputs": [],
   "source": [
    "\n",
    "from web_scraping.GenericSpider3 import run_spider\n",
    "from web_scraping.parsers import parse_html as parse_params\n",
    "start_urls = ['http://example.com']\n",
    "parse = parse_params.parse\n",
    "stay_within = parse_params.stay_within('http://example.com')\n",
    "blob_info = None\n",
    "file_path = 'testing_data/output_directory'  # Ensure this directory exists\n",
    "import os\n",
    "if not os.path.exists(file_path):\n",
    "    os.makedirs(file_path)\n",
    "\n",
    "# Run spider and save to Azure Blob Storage with depth control\n",
    "run_spider(start_urls, parse, stay_within, blob_info=blob_info, max_depth=1)\n"
   ]
  },
  {
   "cell_type": "code",
   "execution_count": null,
   "metadata": {},
   "outputs": [],
   "source": []
  },
  {
   "cell_type": "code",
   "execution_count": null,
   "metadata": {},
   "outputs": [],
   "source": []
  },
  {
   "cell_type": "code",
   "execution_count": 36,
   "metadata": {},
   "outputs": [],
   "source": []
  },
  {
   "cell_type": "code",
   "execution_count": null,
   "metadata": {},
   "outputs": [],
   "source": []
  },
  {
   "cell_type": "code",
   "execution_count": null,
   "metadata": {},
   "outputs": [],
   "source": []
  }
 ],
 "metadata": {
  "kernelspec": {
   "display_name": "venv",
   "language": "python",
   "name": "python3"
  },
  "language_info": {
   "codemirror_mode": {
    "name": "ipython",
    "version": 3
   },
   "file_extension": ".py",
   "mimetype": "text/x-python",
   "name": "python",
   "nbconvert_exporter": "python",
   "pygments_lexer": "ipython3",
   "version": "3.12.0"
  }
 },
 "nbformat": 4,
 "nbformat_minor": 2
}
